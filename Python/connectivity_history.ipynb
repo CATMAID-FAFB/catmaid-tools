{
 "cells": [
  {
   "cell_type": "markdown",
   "metadata": {},
   "source": [
    "## Connectivity history\n",
    "*by Philipp Schlegel, 2018*\n",
    "\n",
    "In this notebook, we will try reconstructing a neuron's connectivity history by using the edition timestamps on treenodes postsynaptic of our neuron of interest. Edition timestamps should be a decent proxy as they also reflect the last time a neuron has been merged.\n",
    "\n",
    "In particular, we want to know how many new neurons were found on a given day.\n",
    "\n",
    "Requirements:\n",
    "- pymaid (http://pymaid.readthedocs.io/en/latest/)"
   ]
  },
  {
   "cell_type": "code",
   "execution_count": 3,
   "metadata": {},
   "outputs": [
    {
     "name": "stderr",
     "output_type": "stream",
     "text": [
      "INFO  : Global CATMAID instance set. (pymaid)\n"
     ]
    }
   ],
   "source": [
    "import pandas as pd\n",
    "import matplotlib.pyplot as plt\n",
    "import pymaid\n",
    "\n",
    "# Use your own credentials here\n",
    "rm = pymaid.CatmaidInstance('server_url', 'server_user', 'server_pw', 'authtoken')"
   ]
  },
  {
   "cell_type": "markdown",
   "metadata": {},
   "source": [
    "First, we will fetch our neuron of interest. Here we use a VA6 PN. It's one of the very first neurons to be traced (check out the low skeleton ID) - so it is bound to have a long history."
   ]
  },
  {
   "cell_type": "code",
   "execution_count": 95,
   "metadata": {},
   "outputs": [],
   "source": [
    "n = pymaid.get_neuron(16)"
   ]
  },
  {
   "cell_type": "code",
   "execution_count": 62,
   "metadata": {},
   "outputs": [
    {
     "data": {
      "text/html": [
       "<div>\n",
       "<style scoped>\n",
       "    .dataframe tbody tr th:only-of-type {\n",
       "        vertical-align: middle;\n",
       "    }\n",
       "\n",
       "    .dataframe tbody tr th {\n",
       "        vertical-align: top;\n",
       "    }\n",
       "\n",
       "    .dataframe thead th {\n",
       "        text-align: right;\n",
       "    }\n",
       "</style>\n",
       "<table border=\"1\" class=\"dataframe\">\n",
       "  <thead>\n",
       "    <tr style=\"text-align: right;\">\n",
       "      <th></th>\n",
       "      <th></th>\n",
       "    </tr>\n",
       "  </thead>\n",
       "  <tbody>\n",
       "    <tr>\n",
       "      <th>type</th>\n",
       "      <td>&lt;class 'pymaid.core.CatmaidNeuron'&gt;</td>\n",
       "    </tr>\n",
       "    <tr>\n",
       "      <th>neuron_name</th>\n",
       "      <td>PN glomerulus VA6 017 DB</td>\n",
       "    </tr>\n",
       "    <tr>\n",
       "      <th>skeleton_id</th>\n",
       "      <td>16</td>\n",
       "    </tr>\n",
       "    <tr>\n",
       "      <th>n_nodes</th>\n",
       "      <td>12743</td>\n",
       "    </tr>\n",
       "    <tr>\n",
       "      <th>n_connectors</th>\n",
       "      <td>2031</td>\n",
       "    </tr>\n",
       "    <tr>\n",
       "      <th>n_branch_nodes</th>\n",
       "      <td>774</td>\n",
       "    </tr>\n",
       "    <tr>\n",
       "      <th>n_end_nodes</th>\n",
       "      <td>823</td>\n",
       "    </tr>\n",
       "    <tr>\n",
       "      <th>n_open_ends</th>\n",
       "      <td>280</td>\n",
       "    </tr>\n",
       "    <tr>\n",
       "      <th>cable_length</th>\n",
       "      <td>2866.11</td>\n",
       "    </tr>\n",
       "    <tr>\n",
       "      <th>review_status</th>\n",
       "      <td>NA</td>\n",
       "    </tr>\n",
       "    <tr>\n",
       "      <th>soma</th>\n",
       "      <td>2941309</td>\n",
       "    </tr>\n",
       "  </tbody>\n",
       "</table>\n",
       "</div>"
      ],
      "text/plain": [
       "type              <class 'pymaid.core.CatmaidNeuron'>\n",
       "neuron_name                  PN glomerulus VA6 017 DB\n",
       "skeleton_id                                        16\n",
       "n_nodes                                         12743\n",
       "n_connectors                                     2031\n",
       "n_branch_nodes                                    774\n",
       "n_end_nodes                                       823\n",
       "n_open_ends                                       280\n",
       "cable_length                                  2866.11\n",
       "review_status                                      NA\n",
       "soma                                          2941309\n",
       "dtype: object"
      ]
     },
     "execution_count": 62,
     "metadata": {},
     "output_type": "execute_result"
    }
   ],
   "source": [
    "n"
   ]
  },
  {
   "cell_type": "markdown",
   "metadata": {},
   "source": [
    "Because we want to exclude fragments and single-node partners, we will first have to compile a list of \"partners of interest\". We are doing this the lazy way here but you could e.g. also subset by neurons that have a soma."
   ]
  },
  {
   "cell_type": "code",
   "execution_count": 74,
   "metadata": {},
   "outputs": [
    {
     "name": "stderr",
     "output_type": "stream",
     "text": [
      "INFO  : Fetching connectivity table for 1 neurons (pymaid)\n",
      "INFO  : Done. Found 0 pre-, 191 postsynaptic and 0 gap junction-connected neurons (pymaid)\n"
     ]
    }
   ],
   "source": [
    "partners = pymaid.get_partners(n, directions='outgoing', min_size=500)\n",
    "partner_skids = partners.skeleton_id.values"
   ]
  },
  {
   "cell_type": "markdown",
   "metadata": {},
   "source": [
    "Next, we will fetch detailed information on its **presynapses**."
   ]
  },
  {
   "cell_type": "code",
   "execution_count": 98,
   "metadata": {},
   "outputs": [
    {
     "name": "stderr",
     "output_type": "stream",
     "text": [
      "INFO  : Data for 1609 of 1609 unique connector IDs retrieved (pymaid)\n"
     ]
    },
    {
     "data": {
      "text/html": [
       "<div>\n",
       "<style scoped>\n",
       "    .dataframe tbody tr th:only-of-type {\n",
       "        vertical-align: middle;\n",
       "    }\n",
       "\n",
       "    .dataframe tbody tr th {\n",
       "        vertical-align: top;\n",
       "    }\n",
       "\n",
       "    .dataframe thead th {\n",
       "        text-align: right;\n",
       "    }\n",
       "</style>\n",
       "<table border=\"1\" class=\"dataframe\">\n",
       "  <thead>\n",
       "    <tr style=\"text-align: right;\">\n",
       "      <th></th>\n",
       "      <th>connector_id</th>\n",
       "      <th>presynaptic_to</th>\n",
       "      <th>postsynaptic_to</th>\n",
       "      <th>presynaptic_to_node</th>\n",
       "      <th>postsynaptic_to_node</th>\n",
       "    </tr>\n",
       "  </thead>\n",
       "  <tbody>\n",
       "    <tr>\n",
       "      <th>0</th>\n",
       "      <td>97895</td>\n",
       "      <td>16</td>\n",
       "      <td>[3021737, 11010, 10378]</td>\n",
       "      <td>97891</td>\n",
       "      <td>[97887, 20901896, 19365715]</td>\n",
       "    </tr>\n",
       "    <tr>\n",
       "      <th>1</th>\n",
       "      <td>97954</td>\n",
       "      <td>16</td>\n",
       "      <td>[8430509, 8279765, 3021737]</td>\n",
       "      <td>2591</td>\n",
       "      <td>[27359078, 26835461, 97943]</td>\n",
       "    </tr>\n",
       "    <tr>\n",
       "      <th>2</th>\n",
       "      <td>98300</td>\n",
       "      <td>16</td>\n",
       "      <td>[8279765, 3021737, 10378]</td>\n",
       "      <td>2665</td>\n",
       "      <td>[26835218, 98292, 19137144]</td>\n",
       "    </tr>\n",
       "    <tr>\n",
       "      <th>3</th>\n",
       "      <td>98373</td>\n",
       "      <td>16</td>\n",
       "      <td>[533335, 8279765, 3021737, 10378]</td>\n",
       "      <td>2646</td>\n",
       "      <td>[27977553, 26835206, 98371, 19258071]</td>\n",
       "    </tr>\n",
       "    <tr>\n",
       "      <th>4</th>\n",
       "      <td>98415</td>\n",
       "      <td>16</td>\n",
       "      <td>[8279765, 7634, 200094, 30358, 3021737]</td>\n",
       "      <td>2654</td>\n",
       "      <td>[26835620, 554403, 1588990, 1670669, 98412]</td>\n",
       "    </tr>\n",
       "  </tbody>\n",
       "</table>\n",
       "</div>"
      ],
      "text/plain": [
       "  connector_id presynaptic_to                          postsynaptic_to  \\\n",
       "0        97895             16                  [3021737, 11010, 10378]   \n",
       "1        97954             16              [8430509, 8279765, 3021737]   \n",
       "2        98300             16                [8279765, 3021737, 10378]   \n",
       "3        98373             16        [533335, 8279765, 3021737, 10378]   \n",
       "4        98415             16  [8279765, 7634, 200094, 30358, 3021737]   \n",
       "\n",
       "  presynaptic_to_node                         postsynaptic_to_node  \n",
       "0               97891                  [97887, 20901896, 19365715]  \n",
       "1                2591                  [27359078, 26835461, 97943]  \n",
       "2                2665                  [26835218, 98292, 19137144]  \n",
       "3                2646        [27977553, 26835206, 98371, 19258071]  \n",
       "4                2654  [26835620, 554403, 1588990, 1670669, 98412]  "
      ]
     },
     "execution_count": 98,
     "metadata": {},
     "output_type": "execute_result"
    }
   ],
   "source": [
    "cn_details = pymaid.get_connector_details(n.presynapses)\n",
    "cn_details.head()"
   ]
  },
  {
   "cell_type": "markdown",
   "metadata": {},
   "source": [
    "Next, we need to get the edition timestamps. Please note that we are only going look **downstream** of the VA6 PN. So we will restrict us to timestamps of nodes *postsynaptic* to above connectors."
   ]
  },
  {
   "cell_type": "code",
   "execution_count": 99,
   "metadata": {},
   "outputs": [
    {
     "data": {
      "text/html": [
       "<div>\n",
       "<style scoped>\n",
       "    .dataframe tbody tr th:only-of-type {\n",
       "        vertical-align: middle;\n",
       "    }\n",
       "\n",
       "    .dataframe tbody tr th {\n",
       "        vertical-align: top;\n",
       "    }\n",
       "\n",
       "    .dataframe thead th {\n",
       "        text-align: right;\n",
       "    }\n",
       "</style>\n",
       "<table border=\"1\" class=\"dataframe\">\n",
       "  <thead>\n",
       "    <tr style=\"text-align: right;\">\n",
       "      <th></th>\n",
       "      <th>creation_time</th>\n",
       "      <th>user</th>\n",
       "      <th>edition_time</th>\n",
       "      <th>editor</th>\n",
       "      <th>reviewers</th>\n",
       "      <th>review_times</th>\n",
       "    </tr>\n",
       "    <tr>\n",
       "      <th>treenode_id</th>\n",
       "      <th></th>\n",
       "      <th></th>\n",
       "      <th></th>\n",
       "      <th></th>\n",
       "      <th></th>\n",
       "      <th></th>\n",
       "    </tr>\n",
       "  </thead>\n",
       "  <tbody>\n",
       "    <tr>\n",
       "      <th>97887</th>\n",
       "      <td>2015-04-27 17:50:00</td>\n",
       "      <td>12</td>\n",
       "      <td>2017-03-16 14:01:00</td>\n",
       "      <td>12</td>\n",
       "      <td>[11]</td>\n",
       "      <td>[2015-04-28 17:00:00]</td>\n",
       "    </tr>\n",
       "    <tr>\n",
       "      <th>97943</th>\n",
       "      <td>2015-04-27 17:51:00</td>\n",
       "      <td>12</td>\n",
       "      <td>2017-03-16 14:01:00</td>\n",
       "      <td>12</td>\n",
       "      <td>[]</td>\n",
       "      <td>[]</td>\n",
       "    </tr>\n",
       "    <tr>\n",
       "      <th>98292</th>\n",
       "      <td>2015-04-27 17:57:00</td>\n",
       "      <td>12</td>\n",
       "      <td>2017-03-16 14:01:00</td>\n",
       "      <td>12</td>\n",
       "      <td>[11]</td>\n",
       "      <td>[2015-04-28 17:01:00]</td>\n",
       "    </tr>\n",
       "    <tr>\n",
       "      <th>98332</th>\n",
       "      <td>2015-04-27 17:58:00</td>\n",
       "      <td>12</td>\n",
       "      <td>2017-03-16 14:01:00</td>\n",
       "      <td>12</td>\n",
       "      <td>[]</td>\n",
       "      <td>[]</td>\n",
       "    </tr>\n",
       "    <tr>\n",
       "      <th>98371</th>\n",
       "      <td>2015-04-27 17:58:00</td>\n",
       "      <td>12</td>\n",
       "      <td>2017-03-16 14:01:00</td>\n",
       "      <td>12</td>\n",
       "      <td>[]</td>\n",
       "      <td>[]</td>\n",
       "    </tr>\n",
       "  </tbody>\n",
       "</table>\n",
       "</div>"
      ],
      "text/plain": [
       "                  creation_time user        edition_time editor reviewers  \\\n",
       "treenode_id                                                                 \n",
       "97887       2015-04-27 17:50:00   12 2017-03-16 14:01:00     12      [11]   \n",
       "97943       2015-04-27 17:51:00   12 2017-03-16 14:01:00     12        []   \n",
       "98292       2015-04-27 17:57:00   12 2017-03-16 14:01:00     12      [11]   \n",
       "98332       2015-04-27 17:58:00   12 2017-03-16 14:01:00     12        []   \n",
       "98371       2015-04-27 17:58:00   12 2017-03-16 14:01:00     12        []   \n",
       "\n",
       "                      review_times  \n",
       "treenode_id                         \n",
       "97887        [2015-04-28 17:00:00]  \n",
       "97943                           []  \n",
       "98292        [2015-04-28 17:01:00]  \n",
       "98332                           []  \n",
       "98371                           []  "
      ]
     },
     "execution_count": 99,
     "metadata": {},
     "output_type": "execute_result"
    }
   ],
   "source": [
    "# Get a list of all treenode IDs -> need to unpack the list\n",
    "# Note that this would look different for upstream partners as \"presynaptic_to_node\" is not a list\n",
    "all_nodes = [n for l in cn_details.postsynaptic_to_node.values for n in l]\n",
    "\n",
    "# Get details and set the treenode ID as index\n",
    "tn_details = pymaid.get_node_details(all_nodes).set_index('treenode_id')\n",
    "tn_details.head()"
   ]
  },
  {
   "cell_type": "markdown",
   "metadata": {},
   "source": [
    "We need to be able to map treenode IDs to skeleton IDs. Let's fetch that information as dictionary:"
   ]
  },
  {
   "cell_type": "code",
   "execution_count": 97,
   "metadata": {},
   "outputs": [
    {
     "name": "stderr",
     "output_type": "stream",
     "text": [
      "\n",
      "\u001b[A"
     ]
    }
   ],
   "source": [
    "# This function sometimes breaks if too many parallel queries - we will restrict that\n",
    "rm.max_threads = 10\n",
    "tn_to_skid = pymaid.get_skid_from_treenode(set(all_nodes))"
   ]
  },
  {
   "cell_type": "markdown",
   "metadata": {},
   "source": [
    "Now we have all the data we need. Just gotta put it together: for each postsynaptic node, get its skeleton's ID and the edition time."
   ]
  },
  {
   "cell_type": "code",
   "execution_count": 41,
   "metadata": {},
   "outputs": [
    {
     "data": {
      "text/html": [
       "<div>\n",
       "<style scoped>\n",
       "    .dataframe tbody tr th:only-of-type {\n",
       "        vertical-align: middle;\n",
       "    }\n",
       "\n",
       "    .dataframe tbody tr th {\n",
       "        vertical-align: top;\n",
       "    }\n",
       "\n",
       "    .dataframe thead th {\n",
       "        text-align: right;\n",
       "    }\n",
       "</style>\n",
       "<table border=\"1\" class=\"dataframe\">\n",
       "  <thead>\n",
       "    <tr style=\"text-align: right;\">\n",
       "      <th></th>\n",
       "      <th>skeleton_id</th>\n",
       "      <th>treenode_id</th>\n",
       "      <th>edition_time</th>\n",
       "    </tr>\n",
       "  </thead>\n",
       "  <tbody>\n",
       "    <tr>\n",
       "      <th>0</th>\n",
       "      <td>3021737</td>\n",
       "      <td>97887</td>\n",
       "      <td>2017-03-16 14:01:00</td>\n",
       "    </tr>\n",
       "    <tr>\n",
       "      <th>1</th>\n",
       "      <td>11010</td>\n",
       "      <td>20901896</td>\n",
       "      <td>2017-12-07 16:48:00</td>\n",
       "    </tr>\n",
       "    <tr>\n",
       "      <th>2</th>\n",
       "      <td>10378</td>\n",
       "      <td>19365715</td>\n",
       "      <td>2017-11-02 22:49:00</td>\n",
       "    </tr>\n",
       "    <tr>\n",
       "      <th>3</th>\n",
       "      <td>8430509</td>\n",
       "      <td>27359078</td>\n",
       "      <td>2018-05-08 20:18:00</td>\n",
       "    </tr>\n",
       "    <tr>\n",
       "      <th>4</th>\n",
       "      <td>8279765</td>\n",
       "      <td>26835461</td>\n",
       "      <td>2018-04-26 19:14:00</td>\n",
       "    </tr>\n",
       "  </tbody>\n",
       "</table>\n",
       "</div>"
      ],
      "text/plain": [
       "   skeleton_id  treenode_id        edition_time\n",
       "0      3021737        97887 2017-03-16 14:01:00\n",
       "1        11010     20901896 2017-12-07 16:48:00\n",
       "2        10378     19365715 2017-11-02 22:49:00\n",
       "3      8430509     27359078 2018-05-08 20:18:00\n",
       "4      8279765     26835461 2018-04-26 19:14:00"
      ]
     },
     "execution_count": 41,
     "metadata": {},
     "output_type": "execute_result"
    }
   ],
   "source": [
    "# Collect raw data\n",
    "data = [[tn_to_skid[n], n, tn_details.loc[str(n), 'edition_time']] for l in cn_details.postsynaptic_to_node for n in l]\n",
    "\n",
    "# Turn into pandas DataFrame\n",
    "connections = pd.DataFrame(data, columns=['skeleton_id', 'treenode_id', 'edition_time'])\n",
    "connections.head()"
   ]
  },
  {
   "cell_type": "markdown",
   "metadata": {},
   "source": [
    "This table contains also small fragments and single-node partners: we need to intersect it with the \"partners of interest\" we collected earlier."
   ]
  },
  {
   "cell_type": "code",
   "execution_count": 75,
   "metadata": {},
   "outputs": [],
   "source": [
    "connections = connections[connections.skeleton_id.isin(partner_skids)]"
   ]
  },
  {
   "cell_type": "markdown",
   "metadata": {},
   "source": [
    "The next step is to group above data by neurons and by timestamp (day):"
   ]
  },
  {
   "cell_type": "code",
   "execution_count": 76,
   "metadata": {},
   "outputs": [
    {
     "data": {
      "text/html": [
       "<div>\n",
       "<style scoped>\n",
       "    .dataframe tbody tr th:only-of-type {\n",
       "        vertical-align: middle;\n",
       "    }\n",
       "\n",
       "    .dataframe tbody tr th {\n",
       "        vertical-align: top;\n",
       "    }\n",
       "\n",
       "    .dataframe thead th {\n",
       "        text-align: right;\n",
       "    }\n",
       "</style>\n",
       "<table border=\"1\" class=\"dataframe\">\n",
       "  <thead>\n",
       "    <tr style=\"text-align: right;\">\n",
       "      <th></th>\n",
       "      <th></th>\n",
       "      <th>treenode_id</th>\n",
       "    </tr>\n",
       "    <tr>\n",
       "      <th>skeleton_id</th>\n",
       "      <th>edition_time</th>\n",
       "      <th></th>\n",
       "    </tr>\n",
       "  </thead>\n",
       "  <tbody>\n",
       "    <tr>\n",
       "      <th>16</th>\n",
       "      <th>2017-10-24</th>\n",
       "      <td>1</td>\n",
       "    </tr>\n",
       "    <tr>\n",
       "      <th rowspan=\"3\" valign=\"top\">6582</th>\n",
       "      <th>2018-01-22</th>\n",
       "      <td>17</td>\n",
       "    </tr>\n",
       "    <tr>\n",
       "      <th>2018-01-24</th>\n",
       "      <td>16</td>\n",
       "    </tr>\n",
       "    <tr>\n",
       "      <th>2018-01-25</th>\n",
       "      <td>3</td>\n",
       "    </tr>\n",
       "    <tr>\n",
       "      <th rowspan=\"2\" valign=\"top\">6662</th>\n",
       "      <th>2018-01-23</th>\n",
       "      <td>18</td>\n",
       "    </tr>\n",
       "    <tr>\n",
       "      <th>2018-01-24</th>\n",
       "      <td>1</td>\n",
       "    </tr>\n",
       "    <tr>\n",
       "      <th>7150</th>\n",
       "      <th>2017-12-09</th>\n",
       "      <td>22</td>\n",
       "    </tr>\n",
       "    <tr>\n",
       "      <th rowspan=\"3\" valign=\"top\">7282</th>\n",
       "      <th>2018-03-12</th>\n",
       "      <td>10</td>\n",
       "    </tr>\n",
       "    <tr>\n",
       "      <th>2018-04-03</th>\n",
       "      <td>2</td>\n",
       "    </tr>\n",
       "    <tr>\n",
       "      <th>2018-04-10</th>\n",
       "      <td>12</td>\n",
       "    </tr>\n",
       "  </tbody>\n",
       "</table>\n",
       "</div>"
      ],
      "text/plain": [
       "                          treenode_id\n",
       "skeleton_id edition_time             \n",
       "16          2017-10-24              1\n",
       "6582        2018-01-22             17\n",
       "            2018-01-24             16\n",
       "            2018-01-25              3\n",
       "6662        2018-01-23             18\n",
       "            2018-01-24              1\n",
       "7150        2017-12-09             22\n",
       "7282        2018-03-12             10\n",
       "            2018-04-03              2\n",
       "            2018-04-10             12"
      ]
     },
     "execution_count": 76,
     "metadata": {},
     "output_type": "execute_result"
    }
   ],
   "source": [
    "cn_grouped = connections.set_index('edition_time').groupby(['skeleton_id', pd.Grouper(freq='D')]).count()\n",
    "cn_grouped.head(10)"
   ]
  },
  {
   "cell_type": "markdown",
   "metadata": {},
   "source": [
    "This already lets us look at how connectivity to each downstream neuron changed over time. Somewhat surprisingly that appeared to have happened in bouts. My best guess is that this happens when a big fragment is merged into either our VA6 PN or the downstream neuron."
   ]
  },
  {
   "cell_type": "markdown",
   "metadata": {},
   "source": [
    "For further analysis we need to pivot the dataframe such that we have *a column per neuron* and *a row per day*. While we're at it, we will also build the cumulative sum of synapses. So the value on the last day should be the current number of synapses from VA6."
   ]
  },
  {
   "cell_type": "code",
   "execution_count": 77,
   "metadata": {},
   "outputs": [
    {
     "data": {
      "text/html": [
       "<div>\n",
       "<style scoped>\n",
       "    .dataframe tbody tr th:only-of-type {\n",
       "        vertical-align: middle;\n",
       "    }\n",
       "\n",
       "    .dataframe tbody tr th {\n",
       "        vertical-align: top;\n",
       "    }\n",
       "\n",
       "    .dataframe thead th {\n",
       "        text-align: right;\n",
       "    }\n",
       "</style>\n",
       "<table border=\"1\" class=\"dataframe\">\n",
       "  <thead>\n",
       "    <tr style=\"text-align: right;\">\n",
       "      <th>skeleton_id</th>\n",
       "      <th>16</th>\n",
       "      <th>6582</th>\n",
       "      <th>6662</th>\n",
       "      <th>7150</th>\n",
       "      <th>7282</th>\n",
       "      <th>7634</th>\n",
       "      <th>7702</th>\n",
       "      <th>8250</th>\n",
       "      <th>8290</th>\n",
       "      <th>9254</th>\n",
       "      <th>...</th>\n",
       "      <th>8297026</th>\n",
       "      <th>8387679</th>\n",
       "      <th>8390388</th>\n",
       "      <th>8406463</th>\n",
       "      <th>8421369</th>\n",
       "      <th>8430509</th>\n",
       "      <th>8463672</th>\n",
       "      <th>8496988</th>\n",
       "      <th>8894477</th>\n",
       "      <th>8929269</th>\n",
       "    </tr>\n",
       "    <tr>\n",
       "      <th>edition_time</th>\n",
       "      <th></th>\n",
       "      <th></th>\n",
       "      <th></th>\n",
       "      <th></th>\n",
       "      <th></th>\n",
       "      <th></th>\n",
       "      <th></th>\n",
       "      <th></th>\n",
       "      <th></th>\n",
       "      <th></th>\n",
       "      <th></th>\n",
       "      <th></th>\n",
       "      <th></th>\n",
       "      <th></th>\n",
       "      <th></th>\n",
       "      <th></th>\n",
       "      <th></th>\n",
       "      <th></th>\n",
       "      <th></th>\n",
       "      <th></th>\n",
       "      <th></th>\n",
       "    </tr>\n",
       "  </thead>\n",
       "  <tbody>\n",
       "    <tr>\n",
       "      <th>2018-05-31</th>\n",
       "      <td>1.0</td>\n",
       "      <td>36.0</td>\n",
       "      <td>19.0</td>\n",
       "      <td>22.0</td>\n",
       "      <td>24.0</td>\n",
       "      <td>21.0</td>\n",
       "      <td>16.0</td>\n",
       "      <td>11.0</td>\n",
       "      <td>13.0</td>\n",
       "      <td>15.0</td>\n",
       "      <td>...</td>\n",
       "      <td>27.0</td>\n",
       "      <td>5.0</td>\n",
       "      <td>8.0</td>\n",
       "      <td>5.0</td>\n",
       "      <td>13.0</td>\n",
       "      <td>3.0</td>\n",
       "      <td>13.0</td>\n",
       "      <td>0.0</td>\n",
       "      <td>0.0</td>\n",
       "      <td>0.0</td>\n",
       "    </tr>\n",
       "    <tr>\n",
       "      <th>2018-06-13</th>\n",
       "      <td>1.0</td>\n",
       "      <td>36.0</td>\n",
       "      <td>19.0</td>\n",
       "      <td>22.0</td>\n",
       "      <td>24.0</td>\n",
       "      <td>21.0</td>\n",
       "      <td>16.0</td>\n",
       "      <td>11.0</td>\n",
       "      <td>13.0</td>\n",
       "      <td>15.0</td>\n",
       "      <td>...</td>\n",
       "      <td>27.0</td>\n",
       "      <td>5.0</td>\n",
       "      <td>8.0</td>\n",
       "      <td>5.0</td>\n",
       "      <td>13.0</td>\n",
       "      <td>3.0</td>\n",
       "      <td>13.0</td>\n",
       "      <td>0.0</td>\n",
       "      <td>0.0</td>\n",
       "      <td>0.0</td>\n",
       "    </tr>\n",
       "    <tr>\n",
       "      <th>2018-06-21</th>\n",
       "      <td>1.0</td>\n",
       "      <td>36.0</td>\n",
       "      <td>19.0</td>\n",
       "      <td>22.0</td>\n",
       "      <td>24.0</td>\n",
       "      <td>21.0</td>\n",
       "      <td>16.0</td>\n",
       "      <td>11.0</td>\n",
       "      <td>13.0</td>\n",
       "      <td>15.0</td>\n",
       "      <td>...</td>\n",
       "      <td>27.0</td>\n",
       "      <td>5.0</td>\n",
       "      <td>8.0</td>\n",
       "      <td>5.0</td>\n",
       "      <td>13.0</td>\n",
       "      <td>3.0</td>\n",
       "      <td>13.0</td>\n",
       "      <td>5.0</td>\n",
       "      <td>1.0</td>\n",
       "      <td>0.0</td>\n",
       "    </tr>\n",
       "    <tr>\n",
       "      <th>2018-06-22</th>\n",
       "      <td>1.0</td>\n",
       "      <td>36.0</td>\n",
       "      <td>19.0</td>\n",
       "      <td>22.0</td>\n",
       "      <td>24.0</td>\n",
       "      <td>21.0</td>\n",
       "      <td>16.0</td>\n",
       "      <td>11.0</td>\n",
       "      <td>13.0</td>\n",
       "      <td>15.0</td>\n",
       "      <td>...</td>\n",
       "      <td>27.0</td>\n",
       "      <td>5.0</td>\n",
       "      <td>8.0</td>\n",
       "      <td>5.0</td>\n",
       "      <td>13.0</td>\n",
       "      <td>3.0</td>\n",
       "      <td>13.0</td>\n",
       "      <td>5.0</td>\n",
       "      <td>5.0</td>\n",
       "      <td>0.0</td>\n",
       "    </tr>\n",
       "    <tr>\n",
       "      <th>2018-06-25</th>\n",
       "      <td>1.0</td>\n",
       "      <td>36.0</td>\n",
       "      <td>19.0</td>\n",
       "      <td>22.0</td>\n",
       "      <td>24.0</td>\n",
       "      <td>21.0</td>\n",
       "      <td>16.0</td>\n",
       "      <td>11.0</td>\n",
       "      <td>13.0</td>\n",
       "      <td>15.0</td>\n",
       "      <td>...</td>\n",
       "      <td>27.0</td>\n",
       "      <td>5.0</td>\n",
       "      <td>8.0</td>\n",
       "      <td>5.0</td>\n",
       "      <td>13.0</td>\n",
       "      <td>3.0</td>\n",
       "      <td>13.0</td>\n",
       "      <td>5.0</td>\n",
       "      <td>5.0</td>\n",
       "      <td>2.0</td>\n",
       "    </tr>\n",
       "  </tbody>\n",
       "</table>\n",
       "<p>5 rows × 191 columns</p>\n",
       "</div>"
      ],
      "text/plain": [
       "skeleton_id   16       6582     6662     7150     7282     7634     7702     \\\n",
       "edition_time                                                                  \n",
       "2018-05-31        1.0     36.0     19.0     22.0     24.0     21.0     16.0   \n",
       "2018-06-13        1.0     36.0     19.0     22.0     24.0     21.0     16.0   \n",
       "2018-06-21        1.0     36.0     19.0     22.0     24.0     21.0     16.0   \n",
       "2018-06-22        1.0     36.0     19.0     22.0     24.0     21.0     16.0   \n",
       "2018-06-25        1.0     36.0     19.0     22.0     24.0     21.0     16.0   \n",
       "\n",
       "skeleton_id   8250     8290     9254      ...     8297026  8387679  8390388  \\\n",
       "edition_time                              ...                                 \n",
       "2018-05-31       11.0     13.0     15.0   ...        27.0      5.0      8.0   \n",
       "2018-06-13       11.0     13.0     15.0   ...        27.0      5.0      8.0   \n",
       "2018-06-21       11.0     13.0     15.0   ...        27.0      5.0      8.0   \n",
       "2018-06-22       11.0     13.0     15.0   ...        27.0      5.0      8.0   \n",
       "2018-06-25       11.0     13.0     15.0   ...        27.0      5.0      8.0   \n",
       "\n",
       "skeleton_id   8406463  8421369  8430509  8463672  8496988  8894477  8929269  \n",
       "edition_time                                                                 \n",
       "2018-05-31        5.0     13.0      3.0     13.0      0.0      0.0      0.0  \n",
       "2018-06-13        5.0     13.0      3.0     13.0      0.0      0.0      0.0  \n",
       "2018-06-21        5.0     13.0      3.0     13.0      5.0      1.0      0.0  \n",
       "2018-06-22        5.0     13.0      3.0     13.0      5.0      5.0      0.0  \n",
       "2018-06-25        5.0     13.0      3.0     13.0      5.0      5.0      2.0  \n",
       "\n",
       "[5 rows x 191 columns]"
      ]
     },
     "execution_count": 77,
     "metadata": {},
     "output_type": "execute_result"
    }
   ],
   "source": [
    "cn_pivot = cn_grouped.reset_index().pivot(index='edition_time', columns='skeleton_id', values='treenode_id').fillna(0).cumsum(axis=0)\n",
    "\n",
    "# Have a look at the last row -> should represent today's connectivity\n",
    "cn_pivot.tail()"
   ]
  },
  {
   "cell_type": "markdown",
   "metadata": {},
   "source": [
    "We can already plot this. Each line here is a single neuron's synapses from VA6 ove time."
   ]
  },
  {
   "cell_type": "code",
   "execution_count": 101,
   "metadata": {},
   "outputs": [
    {
     "data": {
      "image/png": "[encoded data removed]",
      "text/plain": [
       "<Figure size 1152x432 with 1 Axes>"
      ]
     },
     "metadata": {},
     "output_type": "display_data"
    }
   ],
   "source": [
    "fig, ax = plt.subplots(figsize=(16,6))\n",
    "_ = cn_pivot.plot.line(legend=False, ax=ax, alpha=.5)\n",
    "\n",
    "ax.set_ylabel('# of synapses')\n",
    "ax.set_xlabel('')\n",
    "\n",
    "plt.show()"
   ]
  },
  {
   "cell_type": "markdown",
   "metadata": {},
   "source": [
    "Now back to our initial question: \"**How many new neurons were discovered on any given day**\"?\n",
    "\n",
    "We will do this in 5 steps:"
   ]
  },
  {
   "cell_type": "code",
   "execution_count": 79,
   "metadata": {},
   "outputs": [
    {
     "data": {
      "text/plain": [
       "edition_time\n",
       "2015-10-20     0.0\n",
       "2015-11-02    21.0\n",
       "2015-11-04     1.0\n",
       "2015-11-18     0.0\n",
       "2015-11-24     1.0\n",
       "dtype: float64"
      ]
     },
     "execution_count": 79,
     "metadata": {},
     "output_type": "execute_result"
    }
   ],
   "source": [
    "# 1. Copy the original dataframe\n",
    "cn_new = cn_pivot.copy()\n",
    "\n",
    "# 2. Cap synapses at 1\n",
    "cn_new[cn_new > 1] = 1\n",
    "\n",
    "# 3. Set first row to 0 (required for next step to make sense)\n",
    "cn_new.iloc[0, :] = 0\n",
    "\n",
    "# 4. Get the first derivative -> that way we will see a \"1\" when the neuron was first encountered\n",
    "#    and a 0 on any other day\n",
    "cn_new = cn_new.diff(1)\n",
    "\n",
    "# 5. Sum newly encountered neurons over each day\n",
    "cn_new = cn_new.sum(axis=1)\n",
    "\n",
    "cn_new.head()"
   ]
  },
  {
   "cell_type": "markdown",
   "metadata": {},
   "source": [
    "Let's plot this:"
   ]
  },
  {
   "cell_type": "code",
   "execution_count": 104,
   "metadata": {},
   "outputs": [
    {
     "data": {
      "image/png": "[encoded data removed]",
      "text/plain": [
       "<Figure size 1152x432 with 1 Axes>"
      ]
     },
     "metadata": {},
     "output_type": "display_data"
    }
   ],
   "source": [
    "fig, ax = plt.subplots(figsize=(16,6))\n",
    "_ = cn_new.plot.line(ax=ax)\n",
    "\n",
    "ax.set_ylabel('# new neurons/day')\n",
    "ax.set_xlabel('')\n",
    "\n",
    "plt.show()"
   ]
  },
  {
   "cell_type": "markdown",
   "metadata": {},
   "source": [
    "And now cumulative:"
   ]
  },
  {
   "cell_type": "code",
   "execution_count": 103,
   "metadata": {},
   "outputs": [
    {
     "data": {
      "image/png": "[encoded data removed]",
      "text/plain": [
       "<Figure size 1152x432 with 1 Axes>"
      ]
     },
     "metadata": {},
     "output_type": "display_data"
    }
   ],
   "source": [
    "fig, ax = plt.subplots(figsize=(16,6))\n",
    "_ = cn_new.cumsum().plot.line(ax=ax)\n",
    "\n",
    "ax.set_ylabel('# new neurons\\n(cum.)')\n",
    "ax.set_xlabel('')\n",
    "\n",
    "plt.show()"
   ]
  },
  {
   "cell_type": "markdown",
   "metadata": {},
   "source": [
    "Please note that this neuron has not been actively sampled from. If you e.g. sample randomly from your neuron of interest, you would expect to eventually see the curve flattening."
   ]
  }
 ],
 "metadata": {
  "kernelspec": {
   "display_name": "Python 3",
   "language": "python",
   "name": "python3"
  },
  "language_info": {
   "codemirror_mode": {
    "name": "ipython",
    "version": 3
   },
   "file_extension": ".py",
   "mimetype": "text/x-python",
   "name": "python",
   "nbconvert_exporter": "python",
   "pygments_lexer": "ipython3",
   "version": "3.6.4"
  }
 },
 "nbformat": 4,
 "nbformat_minor": 2
}
